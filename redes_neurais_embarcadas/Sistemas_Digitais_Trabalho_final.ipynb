{
  "nbformat": 4,
  "nbformat_minor": 0,
  "metadata": {
    "colab": {
      "provenance": []
    },
    "kernelspec": {
      "name": "python3",
      "display_name": "Python 3"
    },
    "language_info": {
      "name": "python"
    }
  },
  "cells": [
    {
      "cell_type": "markdown",
      "source": [
        "## Importando as Bibliotecas"
      ],
      "metadata": {
        "id": "iA-6_9-AAaf8"
      }
    },
    {
      "cell_type": "code",
      "execution_count": 2,
      "metadata": {
        "id": "8502c6Z8-zEy"
      },
      "outputs": [],
      "source": [
        "import numpy as np\n",
        "import matplotlib.pyplot as plt\n",
        "from sklearn.model_selection import train_test_split\n",
        "import tensorflow as tf\n",
        "from tensorflow.keras.layers import Dense\n",
        "from tensorflow.keras import Sequential\n",
        "import pandas as pd \n",
        "from sklearn.metrics import classification_report, confusion_matrix, ConfusionMatrixDisplay"
      ]
    },
    {
      "cell_type": "markdown",
      "source": [
        "### Lendo o arquvio que representa as entradas "
      ],
      "metadata": {
        "id": "Tcg6geTzCGIn"
      }
    },
    {
      "cell_type": "code",
      "source": [
        "X1=pd.read_csv('X_In.csv')\n",
        "X1.head()"
      ],
      "metadata": {
        "colab": {
          "base_uri": "https://localhost:8080/",
          "height": 204
        },
        "id": "_Xj7Iqt1CF5H",
        "outputId": "b52186b1-06b3-448e-9f5a-d10db2555d86"
      },
      "execution_count": 3,
      "outputs": [
        {
          "output_type": "execute_result",
          "data": {
            "text/plain": [
              "          G         F         E         D         C         B         A\n",
              "0  4.231242  0.780309  4.730696  2.156199  0.645430  3.787909  2.969870\n",
              "1  0.636853  2.024109  2.090387  2.159703  3.502169  2.557124  3.135354\n",
              "2  2.986594  0.456140  0.779718  3.521068  2.736177  3.317250  2.819513\n",
              "3  0.038345  4.963844  3.928005  2.248092  3.118439  2.997237  4.477473\n",
              "4  0.161174  0.377934  0.603821  0.664421  3.294831  4.219109  0.200306"
            ],
            "text/html": [
              "\n",
              "  <div id=\"df-7344bbe3-b056-4753-a0ce-d4d82faade4a\">\n",
              "    <div class=\"colab-df-container\">\n",
              "      <div>\n",
              "<style scoped>\n",
              "    .dataframe tbody tr th:only-of-type {\n",
              "        vertical-align: middle;\n",
              "    }\n",
              "\n",
              "    .dataframe tbody tr th {\n",
              "        vertical-align: top;\n",
              "    }\n",
              "\n",
              "    .dataframe thead th {\n",
              "        text-align: right;\n",
              "    }\n",
              "</style>\n",
              "<table border=\"1\" class=\"dataframe\">\n",
              "  <thead>\n",
              "    <tr style=\"text-align: right;\">\n",
              "      <th></th>\n",
              "      <th>G</th>\n",
              "      <th>F</th>\n",
              "      <th>E</th>\n",
              "      <th>D</th>\n",
              "      <th>C</th>\n",
              "      <th>B</th>\n",
              "      <th>A</th>\n",
              "    </tr>\n",
              "  </thead>\n",
              "  <tbody>\n",
              "    <tr>\n",
              "      <th>0</th>\n",
              "      <td>4.231242</td>\n",
              "      <td>0.780309</td>\n",
              "      <td>4.730696</td>\n",
              "      <td>2.156199</td>\n",
              "      <td>0.645430</td>\n",
              "      <td>3.787909</td>\n",
              "      <td>2.969870</td>\n",
              "    </tr>\n",
              "    <tr>\n",
              "      <th>1</th>\n",
              "      <td>0.636853</td>\n",
              "      <td>2.024109</td>\n",
              "      <td>2.090387</td>\n",
              "      <td>2.159703</td>\n",
              "      <td>3.502169</td>\n",
              "      <td>2.557124</td>\n",
              "      <td>3.135354</td>\n",
              "    </tr>\n",
              "    <tr>\n",
              "      <th>2</th>\n",
              "      <td>2.986594</td>\n",
              "      <td>0.456140</td>\n",
              "      <td>0.779718</td>\n",
              "      <td>3.521068</td>\n",
              "      <td>2.736177</td>\n",
              "      <td>3.317250</td>\n",
              "      <td>2.819513</td>\n",
              "    </tr>\n",
              "    <tr>\n",
              "      <th>3</th>\n",
              "      <td>0.038345</td>\n",
              "      <td>4.963844</td>\n",
              "      <td>3.928005</td>\n",
              "      <td>2.248092</td>\n",
              "      <td>3.118439</td>\n",
              "      <td>2.997237</td>\n",
              "      <td>4.477473</td>\n",
              "    </tr>\n",
              "    <tr>\n",
              "      <th>4</th>\n",
              "      <td>0.161174</td>\n",
              "      <td>0.377934</td>\n",
              "      <td>0.603821</td>\n",
              "      <td>0.664421</td>\n",
              "      <td>3.294831</td>\n",
              "      <td>4.219109</td>\n",
              "      <td>0.200306</td>\n",
              "    </tr>\n",
              "  </tbody>\n",
              "</table>\n",
              "</div>\n",
              "      <button class=\"colab-df-convert\" onclick=\"convertToInteractive('df-7344bbe3-b056-4753-a0ce-d4d82faade4a')\"\n",
              "              title=\"Convert this dataframe to an interactive table.\"\n",
              "              style=\"display:none;\">\n",
              "        \n",
              "  <svg xmlns=\"http://www.w3.org/2000/svg\" height=\"24px\"viewBox=\"0 0 24 24\"\n",
              "       width=\"24px\">\n",
              "    <path d=\"M0 0h24v24H0V0z\" fill=\"none\"/>\n",
              "    <path d=\"M18.56 5.44l.94 2.06.94-2.06 2.06-.94-2.06-.94-.94-2.06-.94 2.06-2.06.94zm-11 1L8.5 8.5l.94-2.06 2.06-.94-2.06-.94L8.5 2.5l-.94 2.06-2.06.94zm10 10l.94 2.06.94-2.06 2.06-.94-2.06-.94-.94-2.06-.94 2.06-2.06.94z\"/><path d=\"M17.41 7.96l-1.37-1.37c-.4-.4-.92-.59-1.43-.59-.52 0-1.04.2-1.43.59L10.3 9.45l-7.72 7.72c-.78.78-.78 2.05 0 2.83L4 21.41c.39.39.9.59 1.41.59.51 0 1.02-.2 1.41-.59l7.78-7.78 2.81-2.81c.8-.78.8-2.07 0-2.86zM5.41 20L4 18.59l7.72-7.72 1.47 1.35L5.41 20z\"/>\n",
              "  </svg>\n",
              "      </button>\n",
              "      \n",
              "  <style>\n",
              "    .colab-df-container {\n",
              "      display:flex;\n",
              "      flex-wrap:wrap;\n",
              "      gap: 12px;\n",
              "    }\n",
              "\n",
              "    .colab-df-convert {\n",
              "      background-color: #E8F0FE;\n",
              "      border: none;\n",
              "      border-radius: 50%;\n",
              "      cursor: pointer;\n",
              "      display: none;\n",
              "      fill: #1967D2;\n",
              "      height: 32px;\n",
              "      padding: 0 0 0 0;\n",
              "      width: 32px;\n",
              "    }\n",
              "\n",
              "    .colab-df-convert:hover {\n",
              "      background-color: #E2EBFA;\n",
              "      box-shadow: 0px 1px 2px rgba(60, 64, 67, 0.3), 0px 1px 3px 1px rgba(60, 64, 67, 0.15);\n",
              "      fill: #174EA6;\n",
              "    }\n",
              "\n",
              "    [theme=dark] .colab-df-convert {\n",
              "      background-color: #3B4455;\n",
              "      fill: #D2E3FC;\n",
              "    }\n",
              "\n",
              "    [theme=dark] .colab-df-convert:hover {\n",
              "      background-color: #434B5C;\n",
              "      box-shadow: 0px 1px 3px 1px rgba(0, 0, 0, 0.15);\n",
              "      filter: drop-shadow(0px 1px 2px rgba(0, 0, 0, 0.3));\n",
              "      fill: #FFFFFF;\n",
              "    }\n",
              "  </style>\n",
              "\n",
              "      <script>\n",
              "        const buttonEl =\n",
              "          document.querySelector('#df-7344bbe3-b056-4753-a0ce-d4d82faade4a button.colab-df-convert');\n",
              "        buttonEl.style.display =\n",
              "          google.colab.kernel.accessAllowed ? 'block' : 'none';\n",
              "\n",
              "        async function convertToInteractive(key) {\n",
              "          const element = document.querySelector('#df-7344bbe3-b056-4753-a0ce-d4d82faade4a');\n",
              "          const dataTable =\n",
              "            await google.colab.kernel.invokeFunction('convertToInteractive',\n",
              "                                                     [key], {});\n",
              "          if (!dataTable) return;\n",
              "\n",
              "          const docLinkHtml = 'Like what you see? Visit the ' +\n",
              "            '<a target=\"_blank\" href=https://colab.research.google.com/notebooks/data_table.ipynb>data table notebook</a>'\n",
              "            + ' to learn more about interactive tables.';\n",
              "          element.innerHTML = '';\n",
              "          dataTable['output_type'] = 'display_data';\n",
              "          await google.colab.output.renderOutput(dataTable, element);\n",
              "          const docLink = document.createElement('div');\n",
              "          docLink.innerHTML = docLinkHtml;\n",
              "          element.appendChild(docLink);\n",
              "        }\n",
              "      </script>\n",
              "    </div>\n",
              "  </div>\n",
              "  "
            ]
          },
          "metadata": {},
          "execution_count": 3
        }
      ]
    },
    {
      "cell_type": "markdown",
      "source": [
        "### Lendo o arquvio que representa as saídas "
      ],
      "metadata": {
        "id": "wx7az1WLI_hG"
      }
    },
    {
      "cell_type": "code",
      "source": [
        "Y1=pd.read_csv('Y_Out.csv')\n",
        "Y1.head()"
      ],
      "metadata": {
        "colab": {
          "base_uri": "https://localhost:8080/",
          "height": 204
        },
        "id": "_fDgMA_FJR0C",
        "outputId": "978175a6-4053-41be-aad4-3faba4cc5e7c"
      },
      "execution_count": 4,
      "outputs": [
        {
          "output_type": "execute_result",
          "data": {
            "text/plain": [
              "   D8  D4  D2  D1\n",
              "0   0   0   1   0\n",
              "1   0   0   0   0\n",
              "2   1   0   0   1\n",
              "3   0   0   0   0\n",
              "4   0   0   0   1"
            ],
            "text/html": [
              "\n",
              "  <div id=\"df-05997161-a0ce-4939-a2bb-c49424d9eace\">\n",
              "    <div class=\"colab-df-container\">\n",
              "      <div>\n",
              "<style scoped>\n",
              "    .dataframe tbody tr th:only-of-type {\n",
              "        vertical-align: middle;\n",
              "    }\n",
              "\n",
              "    .dataframe tbody tr th {\n",
              "        vertical-align: top;\n",
              "    }\n",
              "\n",
              "    .dataframe thead th {\n",
              "        text-align: right;\n",
              "    }\n",
              "</style>\n",
              "<table border=\"1\" class=\"dataframe\">\n",
              "  <thead>\n",
              "    <tr style=\"text-align: right;\">\n",
              "      <th></th>\n",
              "      <th>D8</th>\n",
              "      <th>D4</th>\n",
              "      <th>D2</th>\n",
              "      <th>D1</th>\n",
              "    </tr>\n",
              "  </thead>\n",
              "  <tbody>\n",
              "    <tr>\n",
              "      <th>0</th>\n",
              "      <td>0</td>\n",
              "      <td>0</td>\n",
              "      <td>1</td>\n",
              "      <td>0</td>\n",
              "    </tr>\n",
              "    <tr>\n",
              "      <th>1</th>\n",
              "      <td>0</td>\n",
              "      <td>0</td>\n",
              "      <td>0</td>\n",
              "      <td>0</td>\n",
              "    </tr>\n",
              "    <tr>\n",
              "      <th>2</th>\n",
              "      <td>1</td>\n",
              "      <td>0</td>\n",
              "      <td>0</td>\n",
              "      <td>1</td>\n",
              "    </tr>\n",
              "    <tr>\n",
              "      <th>3</th>\n",
              "      <td>0</td>\n",
              "      <td>0</td>\n",
              "      <td>0</td>\n",
              "      <td>0</td>\n",
              "    </tr>\n",
              "    <tr>\n",
              "      <th>4</th>\n",
              "      <td>0</td>\n",
              "      <td>0</td>\n",
              "      <td>0</td>\n",
              "      <td>1</td>\n",
              "    </tr>\n",
              "  </tbody>\n",
              "</table>\n",
              "</div>\n",
              "      <button class=\"colab-df-convert\" onclick=\"convertToInteractive('df-05997161-a0ce-4939-a2bb-c49424d9eace')\"\n",
              "              title=\"Convert this dataframe to an interactive table.\"\n",
              "              style=\"display:none;\">\n",
              "        \n",
              "  <svg xmlns=\"http://www.w3.org/2000/svg\" height=\"24px\"viewBox=\"0 0 24 24\"\n",
              "       width=\"24px\">\n",
              "    <path d=\"M0 0h24v24H0V0z\" fill=\"none\"/>\n",
              "    <path d=\"M18.56 5.44l.94 2.06.94-2.06 2.06-.94-2.06-.94-.94-2.06-.94 2.06-2.06.94zm-11 1L8.5 8.5l.94-2.06 2.06-.94-2.06-.94L8.5 2.5l-.94 2.06-2.06.94zm10 10l.94 2.06.94-2.06 2.06-.94-2.06-.94-.94-2.06-.94 2.06-2.06.94z\"/><path d=\"M17.41 7.96l-1.37-1.37c-.4-.4-.92-.59-1.43-.59-.52 0-1.04.2-1.43.59L10.3 9.45l-7.72 7.72c-.78.78-.78 2.05 0 2.83L4 21.41c.39.39.9.59 1.41.59.51 0 1.02-.2 1.41-.59l7.78-7.78 2.81-2.81c.8-.78.8-2.07 0-2.86zM5.41 20L4 18.59l7.72-7.72 1.47 1.35L5.41 20z\"/>\n",
              "  </svg>\n",
              "      </button>\n",
              "      \n",
              "  <style>\n",
              "    .colab-df-container {\n",
              "      display:flex;\n",
              "      flex-wrap:wrap;\n",
              "      gap: 12px;\n",
              "    }\n",
              "\n",
              "    .colab-df-convert {\n",
              "      background-color: #E8F0FE;\n",
              "      border: none;\n",
              "      border-radius: 50%;\n",
              "      cursor: pointer;\n",
              "      display: none;\n",
              "      fill: #1967D2;\n",
              "      height: 32px;\n",
              "      padding: 0 0 0 0;\n",
              "      width: 32px;\n",
              "    }\n",
              "\n",
              "    .colab-df-convert:hover {\n",
              "      background-color: #E2EBFA;\n",
              "      box-shadow: 0px 1px 2px rgba(60, 64, 67, 0.3), 0px 1px 3px 1px rgba(60, 64, 67, 0.15);\n",
              "      fill: #174EA6;\n",
              "    }\n",
              "\n",
              "    [theme=dark] .colab-df-convert {\n",
              "      background-color: #3B4455;\n",
              "      fill: #D2E3FC;\n",
              "    }\n",
              "\n",
              "    [theme=dark] .colab-df-convert:hover {\n",
              "      background-color: #434B5C;\n",
              "      box-shadow: 0px 1px 3px 1px rgba(0, 0, 0, 0.15);\n",
              "      filter: drop-shadow(0px 1px 2px rgba(0, 0, 0, 0.3));\n",
              "      fill: #FFFFFF;\n",
              "    }\n",
              "  </style>\n",
              "\n",
              "      <script>\n",
              "        const buttonEl =\n",
              "          document.querySelector('#df-05997161-a0ce-4939-a2bb-c49424d9eace button.colab-df-convert');\n",
              "        buttonEl.style.display =\n",
              "          google.colab.kernel.accessAllowed ? 'block' : 'none';\n",
              "\n",
              "        async function convertToInteractive(key) {\n",
              "          const element = document.querySelector('#df-05997161-a0ce-4939-a2bb-c49424d9eace');\n",
              "          const dataTable =\n",
              "            await google.colab.kernel.invokeFunction('convertToInteractive',\n",
              "                                                     [key], {});\n",
              "          if (!dataTable) return;\n",
              "\n",
              "          const docLinkHtml = 'Like what you see? Visit the ' +\n",
              "            '<a target=\"_blank\" href=https://colab.research.google.com/notebooks/data_table.ipynb>data table notebook</a>'\n",
              "            + ' to learn more about interactive tables.';\n",
              "          element.innerHTML = '';\n",
              "          dataTable['output_type'] = 'display_data';\n",
              "          await google.colab.output.renderOutput(dataTable, element);\n",
              "          const docLink = document.createElement('div');\n",
              "          docLink.innerHTML = docLinkHtml;\n",
              "          element.appendChild(docLink);\n",
              "        }\n",
              "      </script>\n",
              "    </div>\n",
              "  </div>\n",
              "  "
            ]
          },
          "metadata": {},
          "execution_count": 4
        }
      ]
    },
    {
      "cell_type": "markdown",
      "source": [
        "### Separando o Conjunto para Treinamento e Teste da rede "
      ],
      "metadata": {
        "id": "zW4hlWzkJuX0"
      }
    },
    {
      "cell_type": "code",
      "source": [
        "x_train, x_test, y_train, y_test = train_test_split(X1,Y1,\n",
        "    test_size=0.2, \n",
        "    random_state=36\n",
        ")\n",
        "\n",
        "x_train.head()"
      ],
      "metadata": {
        "colab": {
          "base_uri": "https://localhost:8080/",
          "height": 204
        },
        "id": "2jicJtCxJzxQ",
        "outputId": "2d5391d2-1615-4b20-d911-5b827398a997"
      },
      "execution_count": 5,
      "outputs": [
        {
          "output_type": "execute_result",
          "data": {
            "text/plain": [
              "             G         F         E         D         C         B         A\n",
              "1744  0.634871  0.260274  0.120369  0.213064  3.333546  2.240588  2.408543\n",
              "2847  2.958249  0.404613  0.064944  4.754254  4.757221  2.512015  4.034577\n",
              "2867  4.996156  0.426495  0.056511  4.424242  3.204069  2.337421  4.998118\n",
              "1396  3.033935  2.065023  0.213739  0.216075  3.921903  2.030379  0.030073\n",
              "1111  3.132424  3.741727  0.728984  0.339927  4.283104  4.537961  0.304483"
            ],
            "text/html": [
              "\n",
              "  <div id=\"df-be6207d3-c5e6-4458-a21a-e81e895d471f\">\n",
              "    <div class=\"colab-df-container\">\n",
              "      <div>\n",
              "<style scoped>\n",
              "    .dataframe tbody tr th:only-of-type {\n",
              "        vertical-align: middle;\n",
              "    }\n",
              "\n",
              "    .dataframe tbody tr th {\n",
              "        vertical-align: top;\n",
              "    }\n",
              "\n",
              "    .dataframe thead th {\n",
              "        text-align: right;\n",
              "    }\n",
              "</style>\n",
              "<table border=\"1\" class=\"dataframe\">\n",
              "  <thead>\n",
              "    <tr style=\"text-align: right;\">\n",
              "      <th></th>\n",
              "      <th>G</th>\n",
              "      <th>F</th>\n",
              "      <th>E</th>\n",
              "      <th>D</th>\n",
              "      <th>C</th>\n",
              "      <th>B</th>\n",
              "      <th>A</th>\n",
              "    </tr>\n",
              "  </thead>\n",
              "  <tbody>\n",
              "    <tr>\n",
              "      <th>1744</th>\n",
              "      <td>0.634871</td>\n",
              "      <td>0.260274</td>\n",
              "      <td>0.120369</td>\n",
              "      <td>0.213064</td>\n",
              "      <td>3.333546</td>\n",
              "      <td>2.240588</td>\n",
              "      <td>2.408543</td>\n",
              "    </tr>\n",
              "    <tr>\n",
              "      <th>2847</th>\n",
              "      <td>2.958249</td>\n",
              "      <td>0.404613</td>\n",
              "      <td>0.064944</td>\n",
              "      <td>4.754254</td>\n",
              "      <td>4.757221</td>\n",
              "      <td>2.512015</td>\n",
              "      <td>4.034577</td>\n",
              "    </tr>\n",
              "    <tr>\n",
              "      <th>2867</th>\n",
              "      <td>4.996156</td>\n",
              "      <td>0.426495</td>\n",
              "      <td>0.056511</td>\n",
              "      <td>4.424242</td>\n",
              "      <td>3.204069</td>\n",
              "      <td>2.337421</td>\n",
              "      <td>4.998118</td>\n",
              "    </tr>\n",
              "    <tr>\n",
              "      <th>1396</th>\n",
              "      <td>3.033935</td>\n",
              "      <td>2.065023</td>\n",
              "      <td>0.213739</td>\n",
              "      <td>0.216075</td>\n",
              "      <td>3.921903</td>\n",
              "      <td>2.030379</td>\n",
              "      <td>0.030073</td>\n",
              "    </tr>\n",
              "    <tr>\n",
              "      <th>1111</th>\n",
              "      <td>3.132424</td>\n",
              "      <td>3.741727</td>\n",
              "      <td>0.728984</td>\n",
              "      <td>0.339927</td>\n",
              "      <td>4.283104</td>\n",
              "      <td>4.537961</td>\n",
              "      <td>0.304483</td>\n",
              "    </tr>\n",
              "  </tbody>\n",
              "</table>\n",
              "</div>\n",
              "      <button class=\"colab-df-convert\" onclick=\"convertToInteractive('df-be6207d3-c5e6-4458-a21a-e81e895d471f')\"\n",
              "              title=\"Convert this dataframe to an interactive table.\"\n",
              "              style=\"display:none;\">\n",
              "        \n",
              "  <svg xmlns=\"http://www.w3.org/2000/svg\" height=\"24px\"viewBox=\"0 0 24 24\"\n",
              "       width=\"24px\">\n",
              "    <path d=\"M0 0h24v24H0V0z\" fill=\"none\"/>\n",
              "    <path d=\"M18.56 5.44l.94 2.06.94-2.06 2.06-.94-2.06-.94-.94-2.06-.94 2.06-2.06.94zm-11 1L8.5 8.5l.94-2.06 2.06-.94-2.06-.94L8.5 2.5l-.94 2.06-2.06.94zm10 10l.94 2.06.94-2.06 2.06-.94-2.06-.94-.94-2.06-.94 2.06-2.06.94z\"/><path d=\"M17.41 7.96l-1.37-1.37c-.4-.4-.92-.59-1.43-.59-.52 0-1.04.2-1.43.59L10.3 9.45l-7.72 7.72c-.78.78-.78 2.05 0 2.83L4 21.41c.39.39.9.59 1.41.59.51 0 1.02-.2 1.41-.59l7.78-7.78 2.81-2.81c.8-.78.8-2.07 0-2.86zM5.41 20L4 18.59l7.72-7.72 1.47 1.35L5.41 20z\"/>\n",
              "  </svg>\n",
              "      </button>\n",
              "      \n",
              "  <style>\n",
              "    .colab-df-container {\n",
              "      display:flex;\n",
              "      flex-wrap:wrap;\n",
              "      gap: 12px;\n",
              "    }\n",
              "\n",
              "    .colab-df-convert {\n",
              "      background-color: #E8F0FE;\n",
              "      border: none;\n",
              "      border-radius: 50%;\n",
              "      cursor: pointer;\n",
              "      display: none;\n",
              "      fill: #1967D2;\n",
              "      height: 32px;\n",
              "      padding: 0 0 0 0;\n",
              "      width: 32px;\n",
              "    }\n",
              "\n",
              "    .colab-df-convert:hover {\n",
              "      background-color: #E2EBFA;\n",
              "      box-shadow: 0px 1px 2px rgba(60, 64, 67, 0.3), 0px 1px 3px 1px rgba(60, 64, 67, 0.15);\n",
              "      fill: #174EA6;\n",
              "    }\n",
              "\n",
              "    [theme=dark] .colab-df-convert {\n",
              "      background-color: #3B4455;\n",
              "      fill: #D2E3FC;\n",
              "    }\n",
              "\n",
              "    [theme=dark] .colab-df-convert:hover {\n",
              "      background-color: #434B5C;\n",
              "      box-shadow: 0px 1px 3px 1px rgba(0, 0, 0, 0.15);\n",
              "      filter: drop-shadow(0px 1px 2px rgba(0, 0, 0, 0.3));\n",
              "      fill: #FFFFFF;\n",
              "    }\n",
              "  </style>\n",
              "\n",
              "      <script>\n",
              "        const buttonEl =\n",
              "          document.querySelector('#df-be6207d3-c5e6-4458-a21a-e81e895d471f button.colab-df-convert');\n",
              "        buttonEl.style.display =\n",
              "          google.colab.kernel.accessAllowed ? 'block' : 'none';\n",
              "\n",
              "        async function convertToInteractive(key) {\n",
              "          const element = document.querySelector('#df-be6207d3-c5e6-4458-a21a-e81e895d471f');\n",
              "          const dataTable =\n",
              "            await google.colab.kernel.invokeFunction('convertToInteractive',\n",
              "                                                     [key], {});\n",
              "          if (!dataTable) return;\n",
              "\n",
              "          const docLinkHtml = 'Like what you see? Visit the ' +\n",
              "            '<a target=\"_blank\" href=https://colab.research.google.com/notebooks/data_table.ipynb>data table notebook</a>'\n",
              "            + ' to learn more about interactive tables.';\n",
              "          element.innerHTML = '';\n",
              "          dataTable['output_type'] = 'display_data';\n",
              "          await google.colab.output.renderOutput(dataTable, element);\n",
              "          const docLink = document.createElement('div');\n",
              "          docLink.innerHTML = docLinkHtml;\n",
              "          element.appendChild(docLink);\n",
              "        }\n",
              "      </script>\n",
              "    </div>\n",
              "  </div>\n",
              "  "
            ]
          },
          "metadata": {},
          "execution_count": 5
        }
      ]
    },
    {
      "cell_type": "code",
      "source": [
        "print(X1.shape[1], Y1.shape[1])"
      ],
      "metadata": {
        "colab": {
          "base_uri": "https://localhost:8080/"
        },
        "id": "W4XTvPOg6NL6",
        "outputId": "ebbe22f4-a906-4b70-df49-9591ce09fe07"
      },
      "execution_count": 6,
      "outputs": [
        {
          "output_type": "stream",
          "name": "stdout",
          "text": [
            "7 4\n"
          ]
        }
      ]
    },
    {
      "cell_type": "markdown",
      "source": [
        "## Criando o Modelo da Rede "
      ],
      "metadata": {
        "id": "xsz-GYLfDtGJ"
      }
    },
    {
      "cell_type": "code",
      "source": [
        "input_shape = X1.shape[1]   \n",
        "output_shape = Y1.shape[1]  \n",
        "\n",
        "mlp = Sequential([\n",
        "    Dense(7, activation='sigmoid', input_shape=(input_shape,)),\n",
        "    Dense(15, activation='sigmoid'),\n",
        "    Dense(4,activation='sigmoid')\n",
        "])\n",
        "\n",
        "mlp.compile(\n",
        "    loss='mean_squared_error',\n",
        "    optimizer='adam',\n",
        "    metrics=['acc']\n",
        ")\n",
        "\n",
        "mlp.summary()"
      ],
      "metadata": {
        "colab": {
          "base_uri": "https://localhost:8080/"
        },
        "id": "DxDoNFYlDsoS",
        "outputId": "cf4c3e46-c479-465f-8561-fbf1c9a64654"
      },
      "execution_count": 7,
      "outputs": [
        {
          "output_type": "stream",
          "name": "stdout",
          "text": [
            "Model: \"sequential\"\n",
            "_________________________________________________________________\n",
            " Layer (type)                Output Shape              Param #   \n",
            "=================================================================\n",
            " dense (Dense)               (None, 7)                 56        \n",
            "                                                                 \n",
            " dense_1 (Dense)             (None, 15)                120       \n",
            "                                                                 \n",
            " dense_2 (Dense)             (None, 4)                 64        \n",
            "                                                                 \n",
            "=================================================================\n",
            "Total params: 240\n",
            "Trainable params: 240\n",
            "Non-trainable params: 0\n",
            "_________________________________________________________________\n"
          ]
        }
      ]
    },
    {
      "cell_type": "markdown",
      "source": [
        "## Treinando o Modelo "
      ],
      "metadata": {
        "id": "wSLRFKhZNlch"
      }
    },
    {
      "cell_type": "code",
      "source": [
        "history = mlp.fit(\n",
        "    x_train, y_train,\n",
        "    batch_size=10,\n",
        "    epochs=100,\n",
        "    validation_split=0.1,\n",
        "    callbacks=[\n",
        "        tf.keras.callbacks.EarlyStopping(monitor='val_loss', patience=10),\n",
        "        tf.keras.callbacks.ReduceLROnPlateau(monitor='val_loss', factor=0.1, patience=5, min_lr=0.0001)\n",
        "    ]\n",
        ")"
      ],
      "metadata": {
        "colab": {
          "base_uri": "https://localhost:8080/"
        },
        "id": "jEx5QTbyNkxr",
        "outputId": "a1a030d3-103f-4822-b52c-198ff7d24c9a"
      },
      "execution_count": 8,
      "outputs": [
        {
          "output_type": "stream",
          "name": "stdout",
          "text": [
            "Epoch 1/100\n",
            "216/216 [==============================] - 1s 3ms/step - loss: 0.2404 - acc: 0.2120 - val_loss: 0.2134 - val_acc: 0.1250 - lr: 0.0010\n",
            "Epoch 2/100\n",
            "216/216 [==============================] - 0s 2ms/step - loss: 0.2058 - acc: 0.1903 - val_loss: 0.1975 - val_acc: 0.3750 - lr: 0.0010\n",
            "Epoch 3/100\n",
            "216/216 [==============================] - 0s 2ms/step - loss: 0.1885 - acc: 0.4310 - val_loss: 0.1801 - val_acc: 0.4792 - lr: 0.0010\n",
            "Epoch 4/100\n",
            "216/216 [==============================] - 0s 2ms/step - loss: 0.1721 - acc: 0.4764 - val_loss: 0.1644 - val_acc: 0.4833 - lr: 0.0010\n",
            "Epoch 5/100\n",
            "216/216 [==============================] - 0s 2ms/step - loss: 0.1587 - acc: 0.4750 - val_loss: 0.1538 - val_acc: 0.4792 - lr: 0.0010\n",
            "Epoch 6/100\n",
            "216/216 [==============================] - 0s 2ms/step - loss: 0.1486 - acc: 0.4708 - val_loss: 0.1438 - val_acc: 0.4708 - lr: 0.0010\n",
            "Epoch 7/100\n",
            "216/216 [==============================] - 0s 2ms/step - loss: 0.1406 - acc: 0.4579 - val_loss: 0.1373 - val_acc: 0.4708 - lr: 0.0010\n",
            "Epoch 8/100\n",
            "216/216 [==============================] - 0s 2ms/step - loss: 0.1344 - acc: 0.4546 - val_loss: 0.1315 - val_acc: 0.4542 - lr: 0.0010\n",
            "Epoch 9/100\n",
            "216/216 [==============================] - 0s 2ms/step - loss: 0.1293 - acc: 0.4537 - val_loss: 0.1265 - val_acc: 0.4542 - lr: 0.0010\n",
            "Epoch 10/100\n",
            "216/216 [==============================] - 0s 2ms/step - loss: 0.1248 - acc: 0.4532 - val_loss: 0.1228 - val_acc: 0.4708 - lr: 0.0010\n",
            "Epoch 11/100\n",
            "216/216 [==============================] - 0s 2ms/step - loss: 0.1202 - acc: 0.4602 - val_loss: 0.1186 - val_acc: 0.4500 - lr: 0.0010\n",
            "Epoch 12/100\n",
            "216/216 [==============================] - 1s 4ms/step - loss: 0.1155 - acc: 0.4597 - val_loss: 0.1141 - val_acc: 0.4667 - lr: 0.0010\n",
            "Epoch 13/100\n",
            "216/216 [==============================] - 0s 2ms/step - loss: 0.1104 - acc: 0.4606 - val_loss: 0.1093 - val_acc: 0.4792 - lr: 0.0010\n",
            "Epoch 14/100\n",
            "216/216 [==============================] - 0s 2ms/step - loss: 0.1052 - acc: 0.4681 - val_loss: 0.1043 - val_acc: 0.4833 - lr: 0.0010\n",
            "Epoch 15/100\n",
            "216/216 [==============================] - 0s 2ms/step - loss: 0.0998 - acc: 0.4713 - val_loss: 0.0994 - val_acc: 0.4917 - lr: 0.0010\n",
            "Epoch 16/100\n",
            "216/216 [==============================] - 0s 2ms/step - loss: 0.0945 - acc: 0.4782 - val_loss: 0.0951 - val_acc: 0.4917 - lr: 0.0010\n",
            "Epoch 17/100\n",
            "216/216 [==============================] - 0s 2ms/step - loss: 0.0894 - acc: 0.5097 - val_loss: 0.0899 - val_acc: 0.5583 - lr: 0.0010\n",
            "Epoch 18/100\n",
            "216/216 [==============================] - 0s 2ms/step - loss: 0.0846 - acc: 0.5542 - val_loss: 0.0853 - val_acc: 0.6250 - lr: 0.0010\n",
            "Epoch 19/100\n",
            "216/216 [==============================] - 0s 2ms/step - loss: 0.0802 - acc: 0.6074 - val_loss: 0.0822 - val_acc: 0.6167 - lr: 0.0010\n",
            "Epoch 20/100\n",
            "216/216 [==============================] - 0s 2ms/step - loss: 0.0762 - acc: 0.6116 - val_loss: 0.0774 - val_acc: 0.6833 - lr: 0.0010\n",
            "Epoch 21/100\n",
            "216/216 [==============================] - 0s 2ms/step - loss: 0.0727 - acc: 0.6319 - val_loss: 0.0746 - val_acc: 0.6792 - lr: 0.0010\n",
            "Epoch 22/100\n",
            "216/216 [==============================] - 0s 2ms/step - loss: 0.0696 - acc: 0.6412 - val_loss: 0.0720 - val_acc: 0.6750 - lr: 0.0010\n",
            "Epoch 23/100\n",
            "216/216 [==============================] - 0s 2ms/step - loss: 0.0670 - acc: 0.6440 - val_loss: 0.0691 - val_acc: 0.6792 - lr: 0.0010\n",
            "Epoch 24/100\n",
            "216/216 [==============================] - 0s 2ms/step - loss: 0.0647 - acc: 0.6528 - val_loss: 0.0666 - val_acc: 0.6875 - lr: 0.0010\n",
            "Epoch 25/100\n",
            "216/216 [==============================] - 0s 2ms/step - loss: 0.0625 - acc: 0.6523 - val_loss: 0.0644 - val_acc: 0.6917 - lr: 0.0010\n",
            "Epoch 26/100\n",
            "216/216 [==============================] - 0s 2ms/step - loss: 0.0607 - acc: 0.6579 - val_loss: 0.0628 - val_acc: 0.6875 - lr: 0.0010\n",
            "Epoch 27/100\n",
            "216/216 [==============================] - 0s 2ms/step - loss: 0.0590 - acc: 0.6588 - val_loss: 0.0609 - val_acc: 0.6917 - lr: 0.0010\n",
            "Epoch 28/100\n",
            "216/216 [==============================] - 0s 2ms/step - loss: 0.0576 - acc: 0.6630 - val_loss: 0.0592 - val_acc: 0.6917 - lr: 0.0010\n",
            "Epoch 29/100\n",
            "216/216 [==============================] - 0s 2ms/step - loss: 0.0561 - acc: 0.6685 - val_loss: 0.0580 - val_acc: 0.6917 - lr: 0.0010\n",
            "Epoch 30/100\n",
            "216/216 [==============================] - 0s 2ms/step - loss: 0.0549 - acc: 0.6662 - val_loss: 0.0567 - val_acc: 0.6958 - lr: 0.0010\n",
            "Epoch 31/100\n",
            "216/216 [==============================] - 0s 2ms/step - loss: 0.0538 - acc: 0.6704 - val_loss: 0.0554 - val_acc: 0.6917 - lr: 0.0010\n",
            "Epoch 32/100\n",
            "216/216 [==============================] - 0s 2ms/step - loss: 0.0526 - acc: 0.6694 - val_loss: 0.0545 - val_acc: 0.6958 - lr: 0.0010\n",
            "Epoch 33/100\n",
            "216/216 [==============================] - 0s 2ms/step - loss: 0.0517 - acc: 0.6722 - val_loss: 0.0532 - val_acc: 0.6958 - lr: 0.0010\n",
            "Epoch 34/100\n",
            "216/216 [==============================] - 0s 2ms/step - loss: 0.0508 - acc: 0.6750 - val_loss: 0.0522 - val_acc: 0.6958 - lr: 0.0010\n",
            "Epoch 35/100\n",
            "216/216 [==============================] - 0s 2ms/step - loss: 0.0500 - acc: 0.6736 - val_loss: 0.0513 - val_acc: 0.6958 - lr: 0.0010\n",
            "Epoch 36/100\n",
            "216/216 [==============================] - 0s 2ms/step - loss: 0.0491 - acc: 0.6773 - val_loss: 0.0508 - val_acc: 0.6917 - lr: 0.0010\n",
            "Epoch 37/100\n",
            "216/216 [==============================] - 0s 2ms/step - loss: 0.0484 - acc: 0.6773 - val_loss: 0.0498 - val_acc: 0.7000 - lr: 0.0010\n",
            "Epoch 38/100\n",
            "216/216 [==============================] - 0s 2ms/step - loss: 0.0477 - acc: 0.6806 - val_loss: 0.0493 - val_acc: 0.7042 - lr: 0.0010\n",
            "Epoch 39/100\n",
            "216/216 [==============================] - 0s 2ms/step - loss: 0.0472 - acc: 0.6750 - val_loss: 0.0483 - val_acc: 0.7042 - lr: 0.0010\n",
            "Epoch 40/100\n",
            "216/216 [==============================] - 0s 2ms/step - loss: 0.0466 - acc: 0.6829 - val_loss: 0.0476 - val_acc: 0.7083 - lr: 0.0010\n",
            "Epoch 41/100\n",
            "216/216 [==============================] - 0s 2ms/step - loss: 0.0461 - acc: 0.6847 - val_loss: 0.0473 - val_acc: 0.7042 - lr: 0.0010\n",
            "Epoch 42/100\n",
            "216/216 [==============================] - 0s 2ms/step - loss: 0.0456 - acc: 0.6833 - val_loss: 0.0465 - val_acc: 0.7042 - lr: 0.0010\n",
            "Epoch 43/100\n",
            "216/216 [==============================] - 0s 2ms/step - loss: 0.0452 - acc: 0.6824 - val_loss: 0.0461 - val_acc: 0.7042 - lr: 0.0010\n",
            "Epoch 44/100\n",
            "216/216 [==============================] - 0s 2ms/step - loss: 0.0447 - acc: 0.6852 - val_loss: 0.0463 - val_acc: 0.7042 - lr: 0.0010\n",
            "Epoch 45/100\n",
            "216/216 [==============================] - 0s 2ms/step - loss: 0.0444 - acc: 0.6833 - val_loss: 0.0453 - val_acc: 0.7042 - lr: 0.0010\n",
            "Epoch 46/100\n",
            "216/216 [==============================] - 0s 2ms/step - loss: 0.0440 - acc: 0.6861 - val_loss: 0.0449 - val_acc: 0.7083 - lr: 0.0010\n",
            "Epoch 47/100\n",
            "216/216 [==============================] - 1s 4ms/step - loss: 0.0437 - acc: 0.6866 - val_loss: 0.0446 - val_acc: 0.7042 - lr: 0.0010\n",
            "Epoch 48/100\n",
            "216/216 [==============================] - 0s 2ms/step - loss: 0.0433 - acc: 0.6866 - val_loss: 0.0444 - val_acc: 0.7042 - lr: 0.0010\n",
            "Epoch 49/100\n",
            "216/216 [==============================] - 1s 7ms/step - loss: 0.0430 - acc: 0.6880 - val_loss: 0.0442 - val_acc: 0.7083 - lr: 0.0010\n",
            "Epoch 50/100\n",
            "216/216 [==============================] - 1s 7ms/step - loss: 0.0427 - acc: 0.6870 - val_loss: 0.0439 - val_acc: 0.7083 - lr: 0.0010\n",
            "Epoch 51/100\n",
            "216/216 [==============================] - 0s 2ms/step - loss: 0.0425 - acc: 0.6889 - val_loss: 0.0431 - val_acc: 0.7083 - lr: 0.0010\n",
            "Epoch 52/100\n",
            "216/216 [==============================] - 0s 2ms/step - loss: 0.0422 - acc: 0.6870 - val_loss: 0.0432 - val_acc: 0.7083 - lr: 0.0010\n",
            "Epoch 53/100\n",
            "216/216 [==============================] - 0s 2ms/step - loss: 0.0420 - acc: 0.6884 - val_loss: 0.0426 - val_acc: 0.7083 - lr: 0.0010\n",
            "Epoch 54/100\n",
            "216/216 [==============================] - 0s 2ms/step - loss: 0.0418 - acc: 0.6903 - val_loss: 0.0425 - val_acc: 0.7083 - lr: 0.0010\n",
            "Epoch 55/100\n",
            "216/216 [==============================] - 0s 2ms/step - loss: 0.0415 - acc: 0.6898 - val_loss: 0.0425 - val_acc: 0.7083 - lr: 0.0010\n",
            "Epoch 56/100\n",
            "216/216 [==============================] - 0s 2ms/step - loss: 0.0413 - acc: 0.6884 - val_loss: 0.0422 - val_acc: 0.7083 - lr: 0.0010\n",
            "Epoch 57/100\n",
            "216/216 [==============================] - 0s 2ms/step - loss: 0.0412 - acc: 0.6903 - val_loss: 0.0420 - val_acc: 0.7083 - lr: 0.0010\n",
            "Epoch 58/100\n",
            "216/216 [==============================] - 0s 2ms/step - loss: 0.0409 - acc: 0.6894 - val_loss: 0.0419 - val_acc: 0.7083 - lr: 0.0010\n",
            "Epoch 59/100\n",
            "216/216 [==============================] - 1s 3ms/step - loss: 0.0408 - acc: 0.6880 - val_loss: 0.0417 - val_acc: 0.7083 - lr: 0.0010\n",
            "Epoch 60/100\n",
            "216/216 [==============================] - 1s 3ms/step - loss: 0.0406 - acc: 0.6903 - val_loss: 0.0415 - val_acc: 0.7083 - lr: 0.0010\n",
            "Epoch 61/100\n",
            "216/216 [==============================] - 1s 3ms/step - loss: 0.0405 - acc: 0.6903 - val_loss: 0.0413 - val_acc: 0.7042 - lr: 0.0010\n",
            "Epoch 62/100\n",
            "216/216 [==============================] - 1s 3ms/step - loss: 0.0402 - acc: 0.6880 - val_loss: 0.0411 - val_acc: 0.7042 - lr: 0.0010\n",
            "Epoch 63/100\n",
            "216/216 [==============================] - 1s 2ms/step - loss: 0.0402 - acc: 0.6903 - val_loss: 0.0410 - val_acc: 0.7083 - lr: 0.0010\n",
            "Epoch 64/100\n",
            "216/216 [==============================] - 0s 2ms/step - loss: 0.0400 - acc: 0.6898 - val_loss: 0.0409 - val_acc: 0.7042 - lr: 0.0010\n",
            "Epoch 65/100\n",
            "216/216 [==============================] - 0s 2ms/step - loss: 0.0398 - acc: 0.6889 - val_loss: 0.0407 - val_acc: 0.7083 - lr: 0.0010\n",
            "Epoch 66/100\n",
            "216/216 [==============================] - 0s 2ms/step - loss: 0.0398 - acc: 0.6889 - val_loss: 0.0408 - val_acc: 0.7083 - lr: 0.0010\n",
            "Epoch 67/100\n",
            "216/216 [==============================] - 0s 2ms/step - loss: 0.0396 - acc: 0.6889 - val_loss: 0.0412 - val_acc: 0.7042 - lr: 0.0010\n",
            "Epoch 68/100\n",
            "216/216 [==============================] - 0s 2ms/step - loss: 0.0395 - acc: 0.6884 - val_loss: 0.0402 - val_acc: 0.7042 - lr: 0.0010\n",
            "Epoch 69/100\n",
            "216/216 [==============================] - 0s 2ms/step - loss: 0.0393 - acc: 0.6889 - val_loss: 0.0403 - val_acc: 0.7042 - lr: 0.0010\n",
            "Epoch 70/100\n",
            "216/216 [==============================] - 0s 2ms/step - loss: 0.0393 - acc: 0.6889 - val_loss: 0.0403 - val_acc: 0.7042 - lr: 0.0010\n",
            "Epoch 71/100\n",
            "216/216 [==============================] - 0s 2ms/step - loss: 0.0391 - acc: 0.6884 - val_loss: 0.0400 - val_acc: 0.7042 - lr: 0.0010\n",
            "Epoch 72/100\n",
            "216/216 [==============================] - 0s 2ms/step - loss: 0.0391 - acc: 0.6898 - val_loss: 0.0400 - val_acc: 0.7042 - lr: 0.0010\n",
            "Epoch 73/100\n",
            "216/216 [==============================] - 0s 2ms/step - loss: 0.0390 - acc: 0.6884 - val_loss: 0.0402 - val_acc: 0.7042 - lr: 0.0010\n",
            "Epoch 74/100\n",
            "216/216 [==============================] - 0s 2ms/step - loss: 0.0388 - acc: 0.6875 - val_loss: 0.0399 - val_acc: 0.7083 - lr: 0.0010\n",
            "Epoch 75/100\n",
            "216/216 [==============================] - 0s 2ms/step - loss: 0.0387 - acc: 0.6880 - val_loss: 0.0397 - val_acc: 0.7042 - lr: 0.0010\n",
            "Epoch 76/100\n",
            "216/216 [==============================] - 0s 2ms/step - loss: 0.0386 - acc: 0.6875 - val_loss: 0.0398 - val_acc: 0.7083 - lr: 0.0010\n",
            "Epoch 77/100\n",
            "216/216 [==============================] - 0s 2ms/step - loss: 0.0385 - acc: 0.6889 - val_loss: 0.0397 - val_acc: 0.7083 - lr: 0.0010\n",
            "Epoch 78/100\n",
            "216/216 [==============================] - 0s 2ms/step - loss: 0.0385 - acc: 0.6875 - val_loss: 0.0397 - val_acc: 0.7042 - lr: 0.0010\n",
            "Epoch 79/100\n",
            "216/216 [==============================] - 0s 2ms/step - loss: 0.0383 - acc: 0.6875 - val_loss: 0.0397 - val_acc: 0.7042 - lr: 0.0010\n",
            "Epoch 80/100\n",
            "216/216 [==============================] - 0s 2ms/step - loss: 0.0382 - acc: 0.6866 - val_loss: 0.0402 - val_acc: 0.7042 - lr: 0.0010\n",
            "Epoch 81/100\n",
            "216/216 [==============================] - 0s 2ms/step - loss: 0.0381 - acc: 0.6852 - val_loss: 0.0398 - val_acc: 0.7042 - lr: 1.0000e-04\n",
            "Epoch 82/100\n",
            "216/216 [==============================] - 0s 2ms/step - loss: 0.0379 - acc: 0.6856 - val_loss: 0.0397 - val_acc: 0.7042 - lr: 1.0000e-04\n",
            "Epoch 83/100\n",
            "216/216 [==============================] - 0s 2ms/step - loss: 0.0379 - acc: 0.6866 - val_loss: 0.0396 - val_acc: 0.7042 - lr: 1.0000e-04\n",
            "Epoch 84/100\n",
            "216/216 [==============================] - 0s 2ms/step - loss: 0.0379 - acc: 0.6870 - val_loss: 0.0396 - val_acc: 0.7042 - lr: 1.0000e-04\n",
            "Epoch 85/100\n",
            "216/216 [==============================] - 0s 2ms/step - loss: 0.0379 - acc: 0.6870 - val_loss: 0.0396 - val_acc: 0.7042 - lr: 1.0000e-04\n",
            "Epoch 86/100\n",
            "216/216 [==============================] - 0s 2ms/step - loss: 0.0379 - acc: 0.6866 - val_loss: 0.0396 - val_acc: 0.7042 - lr: 1.0000e-04\n",
            "Epoch 87/100\n",
            "216/216 [==============================] - 0s 2ms/step - loss: 0.0379 - acc: 0.6880 - val_loss: 0.0396 - val_acc: 0.7042 - lr: 1.0000e-04\n",
            "Epoch 88/100\n",
            "216/216 [==============================] - 0s 2ms/step - loss: 0.0378 - acc: 0.6875 - val_loss: 0.0396 - val_acc: 0.7042 - lr: 1.0000e-04\n",
            "Epoch 89/100\n",
            "216/216 [==============================] - 0s 2ms/step - loss: 0.0378 - acc: 0.6870 - val_loss: 0.0395 - val_acc: 0.7042 - lr: 1.0000e-04\n",
            "Epoch 90/100\n",
            "216/216 [==============================] - 0s 2ms/step - loss: 0.0378 - acc: 0.6866 - val_loss: 0.0395 - val_acc: 0.7042 - lr: 1.0000e-04\n",
            "Epoch 91/100\n",
            "216/216 [==============================] - 0s 2ms/step - loss: 0.0378 - acc: 0.6866 - val_loss: 0.0395 - val_acc: 0.7042 - lr: 1.0000e-04\n",
            "Epoch 92/100\n",
            "216/216 [==============================] - 0s 2ms/step - loss: 0.0378 - acc: 0.6870 - val_loss: 0.0395 - val_acc: 0.7042 - lr: 1.0000e-04\n",
            "Epoch 93/100\n",
            "216/216 [==============================] - 0s 2ms/step - loss: 0.0378 - acc: 0.6866 - val_loss: 0.0395 - val_acc: 0.7042 - lr: 1.0000e-04\n",
            "Epoch 94/100\n",
            "216/216 [==============================] - 0s 2ms/step - loss: 0.0378 - acc: 0.6875 - val_loss: 0.0395 - val_acc: 0.7042 - lr: 1.0000e-04\n",
            "Epoch 95/100\n",
            "216/216 [==============================] - 0s 2ms/step - loss: 0.0378 - acc: 0.6866 - val_loss: 0.0395 - val_acc: 0.7042 - lr: 1.0000e-04\n",
            "Epoch 96/100\n",
            "216/216 [==============================] - 0s 2ms/step - loss: 0.0378 - acc: 0.6870 - val_loss: 0.0395 - val_acc: 0.7042 - lr: 1.0000e-04\n",
            "Epoch 97/100\n",
            "216/216 [==============================] - 0s 2ms/step - loss: 0.0378 - acc: 0.6870 - val_loss: 0.0395 - val_acc: 0.7042 - lr: 1.0000e-04\n",
            "Epoch 98/100\n",
            "216/216 [==============================] - 0s 2ms/step - loss: 0.0377 - acc: 0.6866 - val_loss: 0.0394 - val_acc: 0.7042 - lr: 1.0000e-04\n",
            "Epoch 99/100\n",
            "216/216 [==============================] - 0s 2ms/step - loss: 0.0377 - acc: 0.6870 - val_loss: 0.0395 - val_acc: 0.7042 - lr: 1.0000e-04\n",
            "Epoch 100/100\n",
            "216/216 [==============================] - 0s 2ms/step - loss: 0.0377 - acc: 0.6870 - val_loss: 0.0395 - val_acc: 0.7042 - lr: 1.0000e-04\n"
          ]
        }
      ]
    },
    {
      "cell_type": "code",
      "source": [
        "fig, ax = plt.subplots(ncols=2, figsize=(16, 6))\n",
        "\n",
        "ax[0].plot(history.history['loss'], label='Training loss')\n",
        "ax[0].plot(history.history['val_loss'], label='Validation loss')\n",
        "\n",
        "ax[0].legend()\n",
        "ax[0].set(\n",
        "    ylabel='Loss',\n",
        "    xlabel='Epoch'\n",
        ")\n",
        "\n",
        "ax[1].plot(history.history['acc'], label='Training accuracy')\n",
        "ax[1].plot(history.history['val_acc'], label='Validation accuracy')\n",
        "\n",
        "ax[1].set(\n",
        "    ylabel='Accuracy',\n",
        "    xlabel='Epoch'\n",
        ")\n",
        "\n",
        "plt.legend()\n",
        "plt.tight_layout()\n",
        "plt.show()"
      ],
      "metadata": {
        "colab": {
          "base_uri": "https://localhost:8080/",
          "height": 394
        },
        "id": "tLR-Z2piQzQ8",
        "outputId": "7ede66e2-006c-422e-84e6-9b3f5edd0cc8"
      },
      "execution_count": 9,
      "outputs": [
        {
          "output_type": "display_data",
          "data": {
            "text/plain": [
              "<Figure size 1152x432 with 2 Axes>"
            ],
            "image/png": "[encoded data removed]"
          },
          "metadata": {
            "needs_background": "light"
          }
        }
      ]
    },
    {
      "cell_type": "code",
      "source": [
        "y_pred = mlp.predict(x_test)"
      ],
      "metadata": {
        "colab": {
          "base_uri": "https://localhost:8080/"
        },
        "id": "-LruuDB6RYij",
        "outputId": "38ae4e58-3296-4a19-ac30-07b5797088b8"
      },
      "execution_count": 10,
      "outputs": [
        {
          "output_type": "stream",
          "name": "stdout",
          "text": [
            "19/19 [==============================] - 0s 1ms/step\n"
          ]
        }
      ]
    },
    {
      "cell_type": "code",
      "source": [
        "print(y_pred)\n",
        "\n",
        "print(x_test)"
      ],
      "metadata": {
        "colab": {
          "base_uri": "https://localhost:8080/"
        },
        "id": "JTmTPzcURiOd",
        "outputId": "cfc15e8f-04b6-40c0-b96d-66ae4dc82df2"
      },
      "execution_count": 11,
      "outputs": [
        {
          "output_type": "stream",
          "name": "stdout",
          "text": [
            "[[7.3334984e-02 1.3616106e-04 9.8013312e-01 1.2097660e-03]\n",
            " [4.9416095e-02 4.7863778e-03 9.9702603e-01 6.7547970e-02]\n",
            " [5.0136453e-01 4.0087262e-03 1.1549430e-02 8.6090322e-06]\n",
            " ...\n",
            " [2.8824266e-03 9.9002975e-01 9.7696412e-01 5.7821453e-06]\n",
            " [3.7131466e-02 9.6833414e-01 4.1418857e-04 4.1830692e-02]\n",
            " [5.2590758e-02 9.3262893e-01 3.2966744e-04 2.8636975e-02]]\n",
            "             G         F         E         D         C         B         A\n",
            "2135  4.582049  0.546295  3.554080  4.041681  0.763788  3.830406  3.196891\n",
            "2546  4.851881  0.045558  2.524858  4.030377  0.167157  2.716222  4.301985\n",
            "1770  3.391687  3.963930  2.862051  2.055121  2.306702  2.463744  2.649827\n",
            "2857  2.650276  0.480317  0.283201  4.158121  2.100267  2.180956  3.949292\n",
            "1536  0.538997  3.178729  4.670470  4.969411  3.949452  4.900323  4.747966\n",
            "...        ...       ...       ...       ...       ...       ...       ...\n",
            "2341  4.296062  0.671198  0.122849  2.953110  2.434710  4.898999  3.603755\n",
            "2351  0.111083  0.472642  0.333171  0.222777  2.756376  3.661847  2.145304\n",
            "2926  4.208938  3.618692  4.966333  3.437350  3.613984  0.659850  2.229878\n",
            "1326  2.100972  2.598315  0.182470  0.697670  3.643981  3.276614  0.502233\n",
            "2636  3.227674  2.509280  0.452517  0.679742  3.565962  3.065765  0.498954\n",
            "\n",
            "[600 rows x 7 columns]\n"
          ]
        }
      ]
    },
    {
      "cell_type": "code",
      "source": [
        "# Plot predictions against actual values\n",
        "plt.clf()\n",
        "plt.title(\"Comparison of predictions to actual values\")\n",
        "plt.plot(x_test, y_test, 'b.', label='Actual')\n",
        "plt.plot(x_test, y_pred, 'r.', label='Prediction')\n",
        "plt.legend()\n",
        "plt.show()"
      ],
      "metadata": {
        "colab": {
          "base_uri": "https://localhost:8080/",
          "height": 369
        },
        "id": "-ZajpDc3wbOK",
        "outputId": "9181004c-a274-44e4-cddf-328dd9bb7af3"
      },
      "execution_count": 12,
      "outputs": [
        {
          "output_type": "stream",
          "name": "stderr",
          "text": [
            "<ipython-input-12-10742d31eeac>:4: MatplotlibDeprecationWarning: cycling among columns of inputs with non-matching shapes is deprecated.\n",
            "  plt.plot(x_test, y_test, 'b.', label='Actual')\n",
            "<ipython-input-12-10742d31eeac>:5: MatplotlibDeprecationWarning: cycling among columns of inputs with non-matching shapes is deprecated.\n",
            "  plt.plot(x_test, y_pred, 'r.', label='Prediction')\n"
          ]
        },
        {
          "output_type": "display_data",
          "data": {
            "text/plain": [
              "<Figure size 432x288 with 1 Axes>"
            ],
            "image/png": "[encoded data removed]"
          },
          "metadata": {
            "needs_background": "light"
          }
        }
      ]
    },
    {
      "cell_type": "markdown",
      "source": [
        "## Converter o modelo keras para um modelo tflite"
      ],
      "metadata": {
        "id": "UrZVYWprxzwF"
      }
    },
    {
      "cell_type": "code",
      "source": [
        "converter = tf.lite.TFLiteConverter.from_keras_model(mlp)\n",
        "converter.optimizations = [tf.lite.Optimize.OPTIMIZE_FOR_SIZE]\n",
        "tflite_model = converter.convert()\n",
        "\n",
        "open('display' + '.tflite', 'wb').write(tflite_model)"
      ],
      "metadata": {
        "colab": {
          "base_uri": "https://localhost:8080/"
        },
        "id": "J6Zef6vTxzJc",
        "outputId": "b334e050-b057-4f94-a40e-1dbbfe20134c"
      },
      "execution_count": 13,
      "outputs": [
        {
          "output_type": "stream",
          "name": "stderr",
          "text": [
            "WARNING:absl:Optimization option OPTIMIZE_FOR_SIZE is deprecated, please use optimizations=[Optimize.DEFAULT] instead.\n",
            "WARNING:absl:Optimization option OPTIMIZE_FOR_SIZE is deprecated, please use optimizations=[Optimize.DEFAULT] instead.\n",
            "WARNING:absl:Optimization option OPTIMIZE_FOR_SIZE is deprecated, please use optimizations=[Optimize.DEFAULT] instead.\n"
          ]
        },
        {
          "output_type": "execute_result",
          "data": {
            "text/plain": [
              "3172"
            ]
          },
          "metadata": {},
          "execution_count": 13
        }
      ]
    },
    {
      "cell_type": "markdown",
      "source": [
        "## Função para converter valores hex em array para biblioteca em C"
      ],
      "metadata": {
        "id": "QDHiBsSvy2H7"
      }
    },
    {
      "cell_type": "code",
      "source": [
        "# Function: Convert some hex value into an array for C programming\n",
        "def hex_to_c_array(hex_data, var_name):\n",
        "\n",
        "  c_str = ''\n",
        "\n",
        "  # Create header guard\n",
        "  c_str += '#ifndef ' + var_name.upper() + '_H\\n'\n",
        "  c_str += '#define ' + var_name.upper() + '_H\\n\\n'\n",
        "\n",
        "  # Add array length at top of file\n",
        "  c_str += '\\nunsigned int ' + var_name + '_len = ' + str(len(hex_data)) + ';\\n'\n",
        "\n",
        "  # Declare C variable\n",
        "  c_str += 'unsigned char ' + var_name + '[] = {'\n",
        "  hex_array = []\n",
        "  for i, val in enumerate(hex_data) :\n",
        "\n",
        "    # Construct string from hex\n",
        "    hex_str = format(val, '#04x')\n",
        "\n",
        "    # Add formatting so each line stays within 80 characters\n",
        "    if (i + 1) < len(hex_data):\n",
        "      hex_str += ','\n",
        "    if (i + 1) % 12 == 0:\n",
        "      hex_str += '\\n '\n",
        "    hex_array.append(hex_str)\n",
        "\n",
        "  # Add closing brace\n",
        "  c_str += '\\n ' + format(' '.join(hex_array)) + '\\n};\\n\\n'\n",
        "\n",
        "  # Close out header guard\n",
        "  c_str += '#endif //' + var_name.upper() + '_H'\n",
        "\n",
        "  return c_str\n",
        "     "
      ],
      "metadata": {
        "id": "YEzLbjFdzJXn"
      },
      "execution_count": 15,
      "outputs": []
    },
    {
      "cell_type": "markdown",
      "source": [
        "## Gerando a o arquivo .h que será importado pelo Arduino "
      ],
      "metadata": {
        "id": "-12_qKhszSoz"
      }
    },
    {
      "cell_type": "code",
      "source": [
        "# Write TFLite model to a C source (or header) file\n",
        "with open('display' + '.h', 'w') as file:\n",
        "  file.write(hex_to_c_array(tflite_model, 'display'))"
      ],
      "metadata": {
        "id": "HAhfmaslzOcl"
      },
      "execution_count": 18,
      "outputs": []
    }
  ]
}